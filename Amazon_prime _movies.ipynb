{
 "cells": [
  {
   "cell_type": "code",
   "execution_count": 64,
   "metadata": {},
   "outputs": [],
   "source": [
    "import numpy as np\n",
    "import pandas as pd\n",
    "import matplotlib.pyplot as plt\n",
    "import seaborn as sns\n",
    "from scipy import stats"
   ]
  },
  {
   "cell_type": "code",
   "execution_count": 65,
   "metadata": {},
   "outputs": [],
   "source": [
    "dataset = pd.read_csv('amazon prime movies (edit).csv')"
   ]
  },
  {
   "cell_type": "code",
   "execution_count": 66,
   "metadata": {},
   "outputs": [
    {
     "data": {
      "text/html": [
       "<div>\n",
       "<style scoped>\n",
       "    .dataframe tbody tr th:only-of-type {\n",
       "        vertical-align: middle;\n",
       "    }\n",
       "\n",
       "    .dataframe tbody tr th {\n",
       "        vertical-align: top;\n",
       "    }\n",
       "\n",
       "    .dataframe thead th {\n",
       "        text-align: right;\n",
       "    }\n",
       "</style>\n",
       "<table border=\"1\" class=\"dataframe\">\n",
       "  <thead>\n",
       "    <tr style=\"text-align: right;\">\n",
       "      <th></th>\n",
       "      <th>Movie Name</th>\n",
       "      <th>Language</th>\n",
       "      <th>IMDb Rating</th>\n",
       "      <th>Running Time</th>\n",
       "      <th>Year of Release</th>\n",
       "      <th>Maturity Rating</th>\n",
       "      <th>Plot</th>\n",
       "    </tr>\n",
       "  </thead>\n",
       "  <tbody>\n",
       "    <tr>\n",
       "      <th>0</th>\n",
       "      <td>John Rambo</td>\n",
       "      <td>Tamil</td>\n",
       "      <td>7.0</td>\n",
       "      <td>1 h 26 min</td>\n",
       "      <td>2008</td>\n",
       "      <td>18+</td>\n",
       "      <td>In Thailand, John Rambo joins a group of merce...</td>\n",
       "    </tr>\n",
       "    <tr>\n",
       "      <th>1</th>\n",
       "      <td>American Pie</td>\n",
       "      <td>English</td>\n",
       "      <td>7.0</td>\n",
       "      <td>1 h 35 min</td>\n",
       "      <td>1999</td>\n",
       "      <td>18+</td>\n",
       "      <td>You'll never look at warm apple pie the same w...</td>\n",
       "    </tr>\n",
       "    <tr>\n",
       "      <th>2</th>\n",
       "      <td>Bombshell</td>\n",
       "      <td>English</td>\n",
       "      <td>6.8</td>\n",
       "      <td>1 h 48 min</td>\n",
       "      <td>2019</td>\n",
       "      <td>18+</td>\n",
       "      <td>The provocative real story of three smart, amb...</td>\n",
       "    </tr>\n",
       "    <tr>\n",
       "      <th>3</th>\n",
       "      <td>Love Birds</td>\n",
       "      <td>Tamil</td>\n",
       "      <td>5.1</td>\n",
       "      <td>2 h 40 min</td>\n",
       "      <td>1996</td>\n",
       "      <td>All</td>\n",
       "      <td>After accidentally meeting, Mridula (Nagma) an...</td>\n",
       "    </tr>\n",
       "    <tr>\n",
       "      <th>4</th>\n",
       "      <td>Hippi</td>\n",
       "      <td>Telugu</td>\n",
       "      <td>5.0</td>\n",
       "      <td>2 h 20 min</td>\n",
       "      <td>2019</td>\n",
       "      <td>18+</td>\n",
       "      <td>Hippi is about the live-in relationship betwee...</td>\n",
       "    </tr>\n",
       "    <tr>\n",
       "      <th>5</th>\n",
       "      <td>Honey Bunny As Super Team X</td>\n",
       "      <td>Tamil</td>\n",
       "      <td>0.0</td>\n",
       "      <td>49min</td>\n",
       "      <td>2018</td>\n",
       "      <td>7+</td>\n",
       "      <td>Flamingo a Hitech Thief has created chaos in t...</td>\n",
       "    </tr>\n",
       "    <tr>\n",
       "      <th>6</th>\n",
       "      <td>Ayyaa</td>\n",
       "      <td>Tamil</td>\n",
       "      <td>5.7</td>\n",
       "      <td>2 h 39 min</td>\n",
       "      <td>2005</td>\n",
       "      <td>All</td>\n",
       "      <td>Ayyaa Is A Super Hit Tamil Action Movie, Direc...</td>\n",
       "    </tr>\n",
       "    <tr>\n",
       "      <th>7</th>\n",
       "      <td>Mukhya Mantri</td>\n",
       "      <td>Bengali</td>\n",
       "      <td>0.0</td>\n",
       "      <td>1 h 57 min</td>\n",
       "      <td>1996</td>\n",
       "      <td>NR</td>\n",
       "      <td>'Mukhya Mantri' is the story of a poor school ...</td>\n",
       "    </tr>\n",
       "    <tr>\n",
       "      <th>8</th>\n",
       "      <td>Gandhi Fer Aa Gea</td>\n",
       "      <td>Punjabi</td>\n",
       "      <td>4.9</td>\n",
       "      <td>2 h 13 mins</td>\n",
       "      <td>2020</td>\n",
       "      <td>13+</td>\n",
       "      <td>Gandhi returns home from a ten year long sente...</td>\n",
       "    </tr>\n",
       "    <tr>\n",
       "      <th>9</th>\n",
       "      <td>Premada Vayasu</td>\n",
       "      <td>Kannada</td>\n",
       "      <td>6.0</td>\n",
       "      <td>1 h 56 min</td>\n",
       "      <td>1997</td>\n",
       "      <td>NR</td>\n",
       "      <td>Premada Vayasu is a 1997 Indian Kannada film, ...</td>\n",
       "    </tr>\n",
       "  </tbody>\n",
       "</table>\n",
       "</div>"
      ],
      "text/plain": [
       "                    Movie Name Language  IMDb Rating Running Time  \\\n",
       "0                   John Rambo    Tamil          7.0   1 h 26 min   \n",
       "1                 American Pie  English          7.0   1 h 35 min   \n",
       "2                    Bombshell  English          6.8   1 h 48 min   \n",
       "3                   Love Birds    Tamil          5.1   2 h 40 min   \n",
       "4                        Hippi   Telugu          5.0   2 h 20 min   \n",
       "5  Honey Bunny As Super Team X    Tamil          0.0        49min   \n",
       "6                        Ayyaa    Tamil          5.7   2 h 39 min   \n",
       "7                Mukhya Mantri  Bengali          0.0   1 h 57 min   \n",
       "8            Gandhi Fer Aa Gea  Punjabi          4.9  2 h 13 mins   \n",
       "9               Premada Vayasu  Kannada          6.0   1 h 56 min   \n",
       "\n",
       "  Year of Release Maturity Rating  \\\n",
       "0            2008             18+   \n",
       "1            1999             18+   \n",
       "2            2019             18+   \n",
       "3            1996             All   \n",
       "4            2019             18+   \n",
       "5            2018              7+   \n",
       "6            2005             All   \n",
       "7            1996              NR   \n",
       "8            2020             13+   \n",
       "9            1997              NR   \n",
       "\n",
       "                                                Plot  \n",
       "0  In Thailand, John Rambo joins a group of merce...  \n",
       "1  You'll never look at warm apple pie the same w...  \n",
       "2  The provocative real story of three smart, amb...  \n",
       "3  After accidentally meeting, Mridula (Nagma) an...  \n",
       "4  Hippi is about the live-in relationship betwee...  \n",
       "5  Flamingo a Hitech Thief has created chaos in t...  \n",
       "6  Ayyaa Is A Super Hit Tamil Action Movie, Direc...  \n",
       "7  'Mukhya Mantri' is the story of a poor school ...  \n",
       "8  Gandhi returns home from a ten year long sente...  \n",
       "9  Premada Vayasu is a 1997 Indian Kannada film, ...  "
      ]
     },
     "execution_count": 66,
     "metadata": {},
     "output_type": "execute_result"
    }
   ],
   "source": [
    "dataset.head(10)"
   ]
  },
  {
   "cell_type": "code",
   "execution_count": 67,
   "metadata": {},
   "outputs": [
    {
     "data": {
      "text/html": [
       "<div>\n",
       "<style scoped>\n",
       "    .dataframe tbody tr th:only-of-type {\n",
       "        vertical-align: middle;\n",
       "    }\n",
       "\n",
       "    .dataframe tbody tr th {\n",
       "        vertical-align: top;\n",
       "    }\n",
       "\n",
       "    .dataframe thead th {\n",
       "        text-align: right;\n",
       "    }\n",
       "</style>\n",
       "<table border=\"1\" class=\"dataframe\">\n",
       "  <thead>\n",
       "    <tr style=\"text-align: right;\">\n",
       "      <th></th>\n",
       "      <th>Movie Name</th>\n",
       "      <th>Language</th>\n",
       "      <th>IMDb Rating</th>\n",
       "      <th>Running Time</th>\n",
       "      <th>Year of Release</th>\n",
       "      <th>Maturity Rating</th>\n",
       "      <th>Plot</th>\n",
       "    </tr>\n",
       "  </thead>\n",
       "  <tbody>\n",
       "    <tr>\n",
       "      <th>0</th>\n",
       "      <td>John Rambo</td>\n",
       "      <td>Tamil</td>\n",
       "      <td>7.0</td>\n",
       "      <td>1 h 26 min</td>\n",
       "      <td>2008</td>\n",
       "      <td>18+</td>\n",
       "      <td>In Thailand, John Rambo joins a group of merce...</td>\n",
       "    </tr>\n",
       "    <tr>\n",
       "      <th>1</th>\n",
       "      <td>American Pie</td>\n",
       "      <td>English</td>\n",
       "      <td>7.0</td>\n",
       "      <td>1 h 35 min</td>\n",
       "      <td>1999</td>\n",
       "      <td>18+</td>\n",
       "      <td>You'll never look at warm apple pie the same w...</td>\n",
       "    </tr>\n",
       "    <tr>\n",
       "      <th>2</th>\n",
       "      <td>Bombshell</td>\n",
       "      <td>English</td>\n",
       "      <td>6.8</td>\n",
       "      <td>1 h 48 min</td>\n",
       "      <td>2019</td>\n",
       "      <td>18+</td>\n",
       "      <td>The provocative real story of three smart, amb...</td>\n",
       "    </tr>\n",
       "    <tr>\n",
       "      <th>3</th>\n",
       "      <td>Love Birds</td>\n",
       "      <td>Tamil</td>\n",
       "      <td>5.1</td>\n",
       "      <td>2 h 40 min</td>\n",
       "      <td>1996</td>\n",
       "      <td>All</td>\n",
       "      <td>After accidentally meeting, Mridula (Nagma) an...</td>\n",
       "    </tr>\n",
       "    <tr>\n",
       "      <th>4</th>\n",
       "      <td>Hippi</td>\n",
       "      <td>Telugu</td>\n",
       "      <td>5.0</td>\n",
       "      <td>2 h 20 min</td>\n",
       "      <td>2019</td>\n",
       "      <td>18+</td>\n",
       "      <td>Hippi is about the live-in relationship betwee...</td>\n",
       "    </tr>\n",
       "    <tr>\n",
       "      <th>...</th>\n",
       "      <td>...</td>\n",
       "      <td>...</td>\n",
       "      <td>...</td>\n",
       "      <td>...</td>\n",
       "      <td>...</td>\n",
       "      <td>...</td>\n",
       "      <td>...</td>\n",
       "    </tr>\n",
       "    <tr>\n",
       "      <th>8119</th>\n",
       "      <td>Blackout</td>\n",
       "      <td>English</td>\n",
       "      <td>5.2</td>\n",
       "      <td>1 h 31 min</td>\n",
       "      <td>2014</td>\n",
       "      <td>18+</td>\n",
       "      <td>This ensemble thriller tells the story of four...</td>\n",
       "    </tr>\n",
       "    <tr>\n",
       "      <th>8120</th>\n",
       "      <td>Loafer</td>\n",
       "      <td>Hindi</td>\n",
       "      <td>6.5</td>\n",
       "      <td>2 h 3 min</td>\n",
       "      <td>1973</td>\n",
       "      <td>All</td>\n",
       "      <td>Loafer Is A Bollywood Romantic Drama Hindi Mov...</td>\n",
       "    </tr>\n",
       "    <tr>\n",
       "      <th>8121</th>\n",
       "      <td>Remember Me</td>\n",
       "      <td>English</td>\n",
       "      <td>7.1</td>\n",
       "      <td>1 h 52 min</td>\n",
       "      <td>2010</td>\n",
       "      <td>13+</td>\n",
       "      <td>Two people scarred by grief find happiness in ...</td>\n",
       "    </tr>\n",
       "    <tr>\n",
       "      <th>8122</th>\n",
       "      <td>Khopa</td>\n",
       "      <td>Marathi</td>\n",
       "      <td>0.0</td>\n",
       "      <td>1 h 51 mins</td>\n",
       "      <td>2017</td>\n",
       "      <td>13+</td>\n",
       "      <td>Narya who comes from a loving and respected fa...</td>\n",
       "    </tr>\n",
       "    <tr>\n",
       "      <th>8123</th>\n",
       "      <td>Khandani Shafakhana</td>\n",
       "      <td>Hindi</td>\n",
       "      <td>4.0</td>\n",
       "      <td>2 h 14 min</td>\n",
       "      <td>2019</td>\n",
       "      <td>13+</td>\n",
       "      <td>A feisty girl from Punjab tries to continue he...</td>\n",
       "    </tr>\n",
       "  </tbody>\n",
       "</table>\n",
       "<p>8121 rows × 7 columns</p>\n",
       "</div>"
      ],
      "text/plain": [
       "               Movie Name Language  IMDb Rating Running Time Year of Release  \\\n",
       "0              John Rambo    Tamil          7.0   1 h 26 min            2008   \n",
       "1            American Pie  English          7.0   1 h 35 min            1999   \n",
       "2               Bombshell  English          6.8   1 h 48 min            2019   \n",
       "3              Love Birds    Tamil          5.1   2 h 40 min            1996   \n",
       "4                   Hippi   Telugu          5.0   2 h 20 min            2019   \n",
       "...                   ...      ...          ...          ...             ...   \n",
       "8119             Blackout  English          5.2   1 h 31 min            2014   \n",
       "8120               Loafer    Hindi          6.5    2 h 3 min            1973   \n",
       "8121          Remember Me  English          7.1   1 h 52 min            2010   \n",
       "8122                Khopa  Marathi          0.0  1 h 51 mins            2017   \n",
       "8123  Khandani Shafakhana    Hindi          4.0   2 h 14 min            2019   \n",
       "\n",
       "     Maturity Rating                                               Plot  \n",
       "0                18+  In Thailand, John Rambo joins a group of merce...  \n",
       "1                18+  You'll never look at warm apple pie the same w...  \n",
       "2                18+  The provocative real story of three smart, amb...  \n",
       "3                All  After accidentally meeting, Mridula (Nagma) an...  \n",
       "4                18+  Hippi is about the live-in relationship betwee...  \n",
       "...              ...                                                ...  \n",
       "8119             18+  This ensemble thriller tells the story of four...  \n",
       "8120             All  Loafer Is A Bollywood Romantic Drama Hindi Mov...  \n",
       "8121             13+  Two people scarred by grief find happiness in ...  \n",
       "8122             13+  Narya who comes from a loving and respected fa...  \n",
       "8123             13+  A feisty girl from Punjab tries to continue he...  \n",
       "\n",
       "[8121 rows x 7 columns]"
      ]
     },
     "execution_count": 67,
     "metadata": {},
     "output_type": "execute_result"
    }
   ],
   "source": [
    "dataset.dropna()"
   ]
  },
  {
   "cell_type": "code",
   "execution_count": 68,
   "metadata": {},
   "outputs": [
    {
     "data": {
      "text/html": [
       "<div>\n",
       "<style scoped>\n",
       "    .dataframe tbody tr th:only-of-type {\n",
       "        vertical-align: middle;\n",
       "    }\n",
       "\n",
       "    .dataframe tbody tr th {\n",
       "        vertical-align: top;\n",
       "    }\n",
       "\n",
       "    .dataframe thead th {\n",
       "        text-align: right;\n",
       "    }\n",
       "</style>\n",
       "<table border=\"1\" class=\"dataframe\">\n",
       "  <thead>\n",
       "    <tr style=\"text-align: right;\">\n",
       "      <th></th>\n",
       "      <th>Movie Name</th>\n",
       "      <th>Language</th>\n",
       "      <th>IMDb Rating</th>\n",
       "      <th>Running Time</th>\n",
       "      <th>Year of Release</th>\n",
       "      <th>Maturity Rating</th>\n",
       "      <th>Plot</th>\n",
       "    </tr>\n",
       "  </thead>\n",
       "  <tbody>\n",
       "    <tr>\n",
       "      <th>0</th>\n",
       "      <td>John Rambo</td>\n",
       "      <td>Tamil</td>\n",
       "      <td>7.0</td>\n",
       "      <td>1 h 26 min</td>\n",
       "      <td>2008</td>\n",
       "      <td>18+</td>\n",
       "      <td>In Thailand, John Rambo joins a group of merce...</td>\n",
       "    </tr>\n",
       "    <tr>\n",
       "      <th>1</th>\n",
       "      <td>American Pie</td>\n",
       "      <td>English</td>\n",
       "      <td>7.0</td>\n",
       "      <td>1 h 35 min</td>\n",
       "      <td>1999</td>\n",
       "      <td>18+</td>\n",
       "      <td>You'll never look at warm apple pie the same w...</td>\n",
       "    </tr>\n",
       "    <tr>\n",
       "      <th>2</th>\n",
       "      <td>Bombshell</td>\n",
       "      <td>English</td>\n",
       "      <td>6.8</td>\n",
       "      <td>1 h 48 min</td>\n",
       "      <td>2019</td>\n",
       "      <td>18+</td>\n",
       "      <td>The provocative real story of three smart, amb...</td>\n",
       "    </tr>\n",
       "    <tr>\n",
       "      <th>3</th>\n",
       "      <td>Love Birds</td>\n",
       "      <td>Tamil</td>\n",
       "      <td>5.1</td>\n",
       "      <td>2 h 40 min</td>\n",
       "      <td>1996</td>\n",
       "      <td>All</td>\n",
       "      <td>After accidentally meeting, Mridula (Nagma) an...</td>\n",
       "    </tr>\n",
       "    <tr>\n",
       "      <th>4</th>\n",
       "      <td>Hippi</td>\n",
       "      <td>Telugu</td>\n",
       "      <td>5.0</td>\n",
       "      <td>2 h 20 min</td>\n",
       "      <td>2019</td>\n",
       "      <td>18+</td>\n",
       "      <td>Hippi is about the live-in relationship betwee...</td>\n",
       "    </tr>\n",
       "    <tr>\n",
       "      <th>...</th>\n",
       "      <td>...</td>\n",
       "      <td>...</td>\n",
       "      <td>...</td>\n",
       "      <td>...</td>\n",
       "      <td>...</td>\n",
       "      <td>...</td>\n",
       "      <td>...</td>\n",
       "    </tr>\n",
       "    <tr>\n",
       "      <th>8119</th>\n",
       "      <td>Blackout</td>\n",
       "      <td>English</td>\n",
       "      <td>5.2</td>\n",
       "      <td>1 h 31 min</td>\n",
       "      <td>2014</td>\n",
       "      <td>18+</td>\n",
       "      <td>This ensemble thriller tells the story of four...</td>\n",
       "    </tr>\n",
       "    <tr>\n",
       "      <th>8120</th>\n",
       "      <td>Loafer</td>\n",
       "      <td>Hindi</td>\n",
       "      <td>6.5</td>\n",
       "      <td>2 h 3 min</td>\n",
       "      <td>1973</td>\n",
       "      <td>All</td>\n",
       "      <td>Loafer Is A Bollywood Romantic Drama Hindi Mov...</td>\n",
       "    </tr>\n",
       "    <tr>\n",
       "      <th>8121</th>\n",
       "      <td>Remember Me</td>\n",
       "      <td>English</td>\n",
       "      <td>7.1</td>\n",
       "      <td>1 h 52 min</td>\n",
       "      <td>2010</td>\n",
       "      <td>13+</td>\n",
       "      <td>Two people scarred by grief find happiness in ...</td>\n",
       "    </tr>\n",
       "    <tr>\n",
       "      <th>8122</th>\n",
       "      <td>Khopa</td>\n",
       "      <td>Marathi</td>\n",
       "      <td>0.0</td>\n",
       "      <td>1 h 51 mins</td>\n",
       "      <td>2017</td>\n",
       "      <td>13+</td>\n",
       "      <td>Narya who comes from a loving and respected fa...</td>\n",
       "    </tr>\n",
       "    <tr>\n",
       "      <th>8123</th>\n",
       "      <td>Khandani Shafakhana</td>\n",
       "      <td>Hindi</td>\n",
       "      <td>4.0</td>\n",
       "      <td>2 h 14 min</td>\n",
       "      <td>2019</td>\n",
       "      <td>13+</td>\n",
       "      <td>A feisty girl from Punjab tries to continue he...</td>\n",
       "    </tr>\n",
       "  </tbody>\n",
       "</table>\n",
       "<p>8124 rows × 7 columns</p>\n",
       "</div>"
      ],
      "text/plain": [
       "               Movie Name Language  IMDb Rating Running Time Year of Release  \\\n",
       "0              John Rambo    Tamil          7.0   1 h 26 min            2008   \n",
       "1            American Pie  English          7.0   1 h 35 min            1999   \n",
       "2               Bombshell  English          6.8   1 h 48 min            2019   \n",
       "3              Love Birds    Tamil          5.1   2 h 40 min            1996   \n",
       "4                   Hippi   Telugu          5.0   2 h 20 min            2019   \n",
       "...                   ...      ...          ...          ...             ...   \n",
       "8119             Blackout  English          5.2   1 h 31 min            2014   \n",
       "8120               Loafer    Hindi          6.5    2 h 3 min            1973   \n",
       "8121          Remember Me  English          7.1   1 h 52 min            2010   \n",
       "8122                Khopa  Marathi          0.0  1 h 51 mins            2017   \n",
       "8123  Khandani Shafakhana    Hindi          4.0   2 h 14 min            2019   \n",
       "\n",
       "     Maturity Rating                                               Plot  \n",
       "0                18+  In Thailand, John Rambo joins a group of merce...  \n",
       "1                18+  You'll never look at warm apple pie the same w...  \n",
       "2                18+  The provocative real story of three smart, amb...  \n",
       "3                All  After accidentally meeting, Mridula (Nagma) an...  \n",
       "4                18+  Hippi is about the live-in relationship betwee...  \n",
       "...              ...                                                ...  \n",
       "8119             18+  This ensemble thriller tells the story of four...  \n",
       "8120             All  Loafer Is A Bollywood Romantic Drama Hindi Mov...  \n",
       "8121             13+  Two people scarred by grief find happiness in ...  \n",
       "8122             13+  Narya who comes from a loving and respected fa...  \n",
       "8123             13+  A feisty girl from Punjab tries to continue he...  \n",
       "\n",
       "[8124 rows x 7 columns]"
      ]
     },
     "execution_count": 68,
     "metadata": {},
     "output_type": "execute_result"
    }
   ],
   "source": [
    "dataset.drop_duplicates()"
   ]
  },
  {
   "attachments": {},
   "cell_type": "markdown",
   "metadata": {},
   "source": [
    "Analyse the Dataset:\n",
    "Using Descriptive Statistics:"
   ]
  },
  {
   "cell_type": "code",
   "execution_count": 69,
   "metadata": {},
   "outputs": [
    {
     "data": {
      "text/html": [
       "<div>\n",
       "<style scoped>\n",
       "    .dataframe tbody tr th:only-of-type {\n",
       "        vertical-align: middle;\n",
       "    }\n",
       "\n",
       "    .dataframe tbody tr th {\n",
       "        vertical-align: top;\n",
       "    }\n",
       "\n",
       "    .dataframe thead th {\n",
       "        text-align: right;\n",
       "    }\n",
       "</style>\n",
       "<table border=\"1\" class=\"dataframe\">\n",
       "  <thead>\n",
       "    <tr style=\"text-align: right;\">\n",
       "      <th></th>\n",
       "      <th>IMDb Rating</th>\n",
       "    </tr>\n",
       "  </thead>\n",
       "  <tbody>\n",
       "    <tr>\n",
       "      <th>count</th>\n",
       "      <td>8124.000000</td>\n",
       "    </tr>\n",
       "    <tr>\n",
       "      <th>mean</th>\n",
       "      <td>4.719522</td>\n",
       "    </tr>\n",
       "    <tr>\n",
       "      <th>std</th>\n",
       "      <td>2.922482</td>\n",
       "    </tr>\n",
       "    <tr>\n",
       "      <th>min</th>\n",
       "      <td>0.000000</td>\n",
       "    </tr>\n",
       "    <tr>\n",
       "      <th>25%</th>\n",
       "      <td>2.300000</td>\n",
       "    </tr>\n",
       "    <tr>\n",
       "      <th>50%</th>\n",
       "      <td>5.800000</td>\n",
       "    </tr>\n",
       "    <tr>\n",
       "      <th>75%</th>\n",
       "      <td>6.900000</td>\n",
       "    </tr>\n",
       "    <tr>\n",
       "      <th>max</th>\n",
       "      <td>9.500000</td>\n",
       "    </tr>\n",
       "  </tbody>\n",
       "</table>\n",
       "</div>"
      ],
      "text/plain": [
       "       IMDb Rating\n",
       "count  8124.000000\n",
       "mean      4.719522\n",
       "std       2.922482\n",
       "min       0.000000\n",
       "25%       2.300000\n",
       "50%       5.800000\n",
       "75%       6.900000\n",
       "max       9.500000"
      ]
     },
     "execution_count": 69,
     "metadata": {},
     "output_type": "execute_result"
    }
   ],
   "source": [
    "dataset.describe()"
   ]
  },
  {
   "cell_type": "code",
   "execution_count": 70,
   "metadata": {},
   "outputs": [
    {
     "data": {
      "text/html": [
       "<div>\n",
       "<style scoped>\n",
       "    .dataframe tbody tr th:only-of-type {\n",
       "        vertical-align: middle;\n",
       "    }\n",
       "\n",
       "    .dataframe tbody tr th {\n",
       "        vertical-align: top;\n",
       "    }\n",
       "\n",
       "    .dataframe thead th {\n",
       "        text-align: right;\n",
       "    }\n",
       "</style>\n",
       "<table border=\"1\" class=\"dataframe\">\n",
       "  <thead>\n",
       "    <tr style=\"text-align: right;\">\n",
       "      <th></th>\n",
       "      <th>Movie Name</th>\n",
       "      <th>Language</th>\n",
       "      <th>IMDb Rating</th>\n",
       "      <th>Running Time</th>\n",
       "      <th>Year of Release</th>\n",
       "      <th>Maturity Rating</th>\n",
       "      <th>Plot</th>\n",
       "    </tr>\n",
       "  </thead>\n",
       "  <tbody>\n",
       "    <tr>\n",
       "      <th>count</th>\n",
       "      <td>8124</td>\n",
       "      <td>8124</td>\n",
       "      <td>8124.000000</td>\n",
       "      <td>8124</td>\n",
       "      <td>8124</td>\n",
       "      <td>8124</td>\n",
       "      <td>8121</td>\n",
       "    </tr>\n",
       "    <tr>\n",
       "      <th>unique</th>\n",
       "      <td>7261</td>\n",
       "      <td>10</td>\n",
       "      <td>NaN</td>\n",
       "      <td>289</td>\n",
       "      <td>69</td>\n",
       "      <td>6</td>\n",
       "      <td>7403</td>\n",
       "    </tr>\n",
       "    <tr>\n",
       "      <th>top</th>\n",
       "      <td>The Landlord</td>\n",
       "      <td>Hindi</td>\n",
       "      <td>NaN</td>\n",
       "      <td>2 h 17 min</td>\n",
       "      <td>2017</td>\n",
       "      <td>13+</td>\n",
       "      <td>Five plan passengers are unable to land after ...</td>\n",
       "    </tr>\n",
       "    <tr>\n",
       "      <th>freq</th>\n",
       "      <td>8</td>\n",
       "      <td>1982</td>\n",
       "      <td>NaN</td>\n",
       "      <td>144</td>\n",
       "      <td>762</td>\n",
       "      <td>2606</td>\n",
       "      <td>8</td>\n",
       "    </tr>\n",
       "    <tr>\n",
       "      <th>mean</th>\n",
       "      <td>NaN</td>\n",
       "      <td>NaN</td>\n",
       "      <td>4.719522</td>\n",
       "      <td>NaN</td>\n",
       "      <td>NaN</td>\n",
       "      <td>NaN</td>\n",
       "      <td>NaN</td>\n",
       "    </tr>\n",
       "    <tr>\n",
       "      <th>std</th>\n",
       "      <td>NaN</td>\n",
       "      <td>NaN</td>\n",
       "      <td>2.922482</td>\n",
       "      <td>NaN</td>\n",
       "      <td>NaN</td>\n",
       "      <td>NaN</td>\n",
       "      <td>NaN</td>\n",
       "    </tr>\n",
       "    <tr>\n",
       "      <th>min</th>\n",
       "      <td>NaN</td>\n",
       "      <td>NaN</td>\n",
       "      <td>0.000000</td>\n",
       "      <td>NaN</td>\n",
       "      <td>NaN</td>\n",
       "      <td>NaN</td>\n",
       "      <td>NaN</td>\n",
       "    </tr>\n",
       "    <tr>\n",
       "      <th>25%</th>\n",
       "      <td>NaN</td>\n",
       "      <td>NaN</td>\n",
       "      <td>2.300000</td>\n",
       "      <td>NaN</td>\n",
       "      <td>NaN</td>\n",
       "      <td>NaN</td>\n",
       "      <td>NaN</td>\n",
       "    </tr>\n",
       "    <tr>\n",
       "      <th>50%</th>\n",
       "      <td>NaN</td>\n",
       "      <td>NaN</td>\n",
       "      <td>5.800000</td>\n",
       "      <td>NaN</td>\n",
       "      <td>NaN</td>\n",
       "      <td>NaN</td>\n",
       "      <td>NaN</td>\n",
       "    </tr>\n",
       "    <tr>\n",
       "      <th>75%</th>\n",
       "      <td>NaN</td>\n",
       "      <td>NaN</td>\n",
       "      <td>6.900000</td>\n",
       "      <td>NaN</td>\n",
       "      <td>NaN</td>\n",
       "      <td>NaN</td>\n",
       "      <td>NaN</td>\n",
       "    </tr>\n",
       "    <tr>\n",
       "      <th>max</th>\n",
       "      <td>NaN</td>\n",
       "      <td>NaN</td>\n",
       "      <td>9.500000</td>\n",
       "      <td>NaN</td>\n",
       "      <td>NaN</td>\n",
       "      <td>NaN</td>\n",
       "      <td>NaN</td>\n",
       "    </tr>\n",
       "  </tbody>\n",
       "</table>\n",
       "</div>"
      ],
      "text/plain": [
       "          Movie Name Language  IMDb Rating Running Time Year of Release  \\\n",
       "count           8124     8124  8124.000000         8124            8124   \n",
       "unique          7261       10          NaN          289              69   \n",
       "top     The Landlord    Hindi          NaN   2 h 17 min            2017   \n",
       "freq               8     1982          NaN          144             762   \n",
       "mean             NaN      NaN     4.719522          NaN             NaN   \n",
       "std              NaN      NaN     2.922482          NaN             NaN   \n",
       "min              NaN      NaN     0.000000          NaN             NaN   \n",
       "25%              NaN      NaN     2.300000          NaN             NaN   \n",
       "50%              NaN      NaN     5.800000          NaN             NaN   \n",
       "75%              NaN      NaN     6.900000          NaN             NaN   \n",
       "max              NaN      NaN     9.500000          NaN             NaN   \n",
       "\n",
       "       Maturity Rating                                               Plot  \n",
       "count             8124                                               8121  \n",
       "unique               6                                               7403  \n",
       "top                13+  Five plan passengers are unable to land after ...  \n",
       "freq              2606                                                  8  \n",
       "mean               NaN                                                NaN  \n",
       "std                NaN                                                NaN  \n",
       "min                NaN                                                NaN  \n",
       "25%                NaN                                                NaN  \n",
       "50%                NaN                                                NaN  \n",
       "75%                NaN                                                NaN  \n",
       "max                NaN                                                NaN  "
      ]
     },
     "execution_count": 70,
     "metadata": {},
     "output_type": "execute_result"
    }
   ],
   "source": [
    "dataset.describe(include='all')"
   ]
  },
  {
   "cell_type": "code",
   "execution_count": 71,
   "metadata": {},
   "outputs": [
    {
     "name": "stdout",
     "output_type": "stream",
     "text": [
      "<class 'pandas.core.frame.DataFrame'>\n",
      "RangeIndex: 8124 entries, 0 to 8123\n",
      "Data columns (total 7 columns):\n",
      " #   Column           Non-Null Count  Dtype  \n",
      "---  ------           --------------  -----  \n",
      " 0   Movie Name       8124 non-null   object \n",
      " 1   Language         8124 non-null   object \n",
      " 2   IMDb Rating      8124 non-null   float64\n",
      " 3   Running Time     8124 non-null   object \n",
      " 4   Year of Release  8124 non-null   object \n",
      " 5   Maturity Rating  8124 non-null   object \n",
      " 6   Plot             8121 non-null   object \n",
      "dtypes: float64(1), object(6)\n",
      "memory usage: 444.4+ KB\n"
     ]
    }
   ],
   "source": [
    "dataset.info()"
   ]
  },
  {
   "cell_type": "code",
   "execution_count": 72,
   "metadata": {},
   "outputs": [
    {
     "data": {
      "text/plain": [
       "Hindi        1982\n",
       "English      1699\n",
       "Bengali      1201\n",
       "Telugu        984\n",
       "Tamil         721\n",
       "Malayalam     518\n",
       "Kannada       419\n",
       "Marathi       353\n",
       "Punjabi       133\n",
       "Gujarati      114\n",
       "Name: Language, dtype: int64"
      ]
     },
     "execution_count": 72,
     "metadata": {},
     "output_type": "execute_result"
    }
   ],
   "source": [
    "dataset['Language'].value_counts()"
   ]
  },
  {
   "attachments": {},
   "cell_type": "markdown",
   "metadata": {},
   "source": [
    "# Create Visualization of total number of movies released #"
   ]
  },
  {
   "cell_type": "code",
   "execution_count": 73,
   "metadata": {},
   "outputs": [
    {
     "data": {
      "text/plain": [
       "<AxesSubplot:xlabel='Count', ylabel='Language'>"
      ]
     },
     "execution_count": 73,
     "metadata": {},
     "output_type": "execute_result"
    },
    {
     "data": {
      "image/png": "[encoded data removed]",
      "text/plain": [
       "<Figure size 640x480 with 1 Axes>"
      ]
     },
     "metadata": {},
     "output_type": "display_data"
    }
   ],
   "source": [
    "sns.histplot(data = dataset, y = dataset['Language'])"
   ]
  },
  {
   "attachments": {},
   "cell_type": "markdown",
   "metadata": {},
   "source": [
    "**Hindi** Languages has a high number of movies."
   ]
  },
  {
   "cell_type": "code",
   "execution_count": 74,
   "metadata": {},
   "outputs": [
    {
     "name": "stdout",
     "output_type": "stream",
     "text": [
      "Movie Name\n",
      "& Jara Hatke                                                            2.9\n",
      "1 1 3 Ora Tinjon                                                        4.6\n",
      "10 Cloverfield Lane                                                     7.2\n",
      "10 Kalpanakal                                                           5.8\n",
      "10,000 B.C.                                                             5.1\n",
      "                                                                       ... \n",
      "sex, lies and videotape                                                 0.0\n",
      "varikkuzhiyile kolapathakam                                             6.4\n",
      "vazhunnor                                                               5.9\n",
      "yeh raaste hain pyaar ke                                                4.1\n",
      "’Rameau’s Nephew’ by Diderot (Thanx to Dennis Young) by Wilma Schoen    0.0\n",
      "Name: IMDb Rating, Length: 7261, dtype: float64\n"
     ]
    }
   ],
   "source": [
    "x = dataset.groupby('Movie Name')['IMDb Rating'].max()\n",
    "print(x)"
   ]
  },
  {
   "cell_type": "code",
   "execution_count": 75,
   "metadata": {},
   "outputs": [
    {
     "data": {
      "text/plain": [
       "13+    2606\n",
       "NR     2052\n",
       "All    1761\n",
       "18+    1138\n",
       "16+     382\n",
       "7+      185\n",
       "Name: Maturity Rating, dtype: int64"
      ]
     },
     "execution_count": 75,
     "metadata": {},
     "output_type": "execute_result"
    }
   ],
   "source": [
    "dataset['Maturity Rating'].value_counts()"
   ]
  },
  {
   "cell_type": "code",
   "execution_count": 76,
   "metadata": {},
   "outputs": [
    {
     "name": "stdout",
     "output_type": "stream",
     "text": [
      "109\n"
     ]
    }
   ],
   "source": [
    "Underrated_movies = dataset[(dataset['Maturity Rating']== '18+') & (dataset['Language']== 'Tamil')]['Movie Name'].count()\n",
    "print(Underrated_movies)"
   ]
  },
  {
   "cell_type": "code",
   "execution_count": 77,
   "metadata": {},
   "outputs": [
    {
     "name": "stdout",
     "output_type": "stream",
     "text": [
      "2020 Release Movie count:  31\n"
     ]
    }
   ],
   "source": [
    "Movie2020list = dataset[(dataset['Year of Release']== '2020') & (dataset['Language']== 'Tamil')]['Movie Name'].count()\n",
    "print(\"2020 Release Movie count: \",Movie2020list)"
   ]
  },
  {
   "attachments": {},
   "cell_type": "markdown",
   "metadata": {},
   "source": [
    "# Movies count as per Maturity Rating #"
   ]
  },
  {
   "cell_type": "code",
   "execution_count": 78,
   "metadata": {},
   "outputs": [
    {
     "data": {
      "text/plain": [
       "<AxesSubplot:ylabel='Maturity Rating'>"
      ]
     },
     "execution_count": 78,
     "metadata": {},
     "output_type": "execute_result"
    },
    {
     "data": {
      "image/png": "[encoded data removed]",
      "text/plain": [
       "<Figure size 640x480 with 1 Axes>"
      ]
     },
     "metadata": {},
     "output_type": "display_data"
    }
   ],
   "source": [
    "dataset['Maturity Rating'].value_counts().plot(kind='pie')"
   ]
  },
  {
   "attachments": {},
   "cell_type": "markdown",
   "metadata": {},
   "source": [
    "Most of the movies in the list are **13+**"
   ]
  },
  {
   "attachments": {},
   "cell_type": "markdown",
   "metadata": {},
   "source": [
    "# Top 10 IMDb rating given by the most of the movies #"
   ]
  },
  {
   "cell_type": "code",
   "execution_count": 107,
   "metadata": {},
   "outputs": [
    {
     "data": {
      "text/plain": [
       "<AxesSubplot:>"
      ]
     },
     "execution_count": 107,
     "metadata": {},
     "output_type": "execute_result"
    },
    {
     "data": {
      "image/png": "[encoded data removed]",
      "text/plain": [
       "<Figure size 600x600 with 1 Axes>"
      ]
     },
     "metadata": {},
     "output_type": "display_data"
    }
   ],
   "source": [
    "top_10_ratings = dataset['IMDb Rating'].value_counts().nlargest(10)\n",
    "top_10_ratings.plot(kind='bar', figsize=(6, 6))"
   ]
  },
  {
   "attachments": {},
   "cell_type": "markdown",
   "metadata": {},
   "source": [
    "Highest rating given by **IMBD is 6.5**"
   ]
  },
  {
   "cell_type": "code",
   "execution_count": 80,
   "metadata": {},
   "outputs": [
    {
     "data": {
      "text/plain": [
       "<AxesSubplot:xlabel='Maturity Rating'>"
      ]
     },
     "execution_count": 80,
     "metadata": {},
     "output_type": "execute_result"
    },
    {
     "data": {
      "image/png": "[encoded data removed]",
      "text/plain": [
       "<Figure size 640x480 with 1 Axes>"
      ]
     },
     "metadata": {},
     "output_type": "display_data"
    }
   ],
   "source": [
    "filtered_data = dataset[dataset['Language'] == 'Hindi']\n",
    "result = filtered_data.groupby('Maturity Rating')['Maturity Rating'].count()\n",
    "result.plot(kind='bar')"
   ]
  },
  {
   "attachments": {},
   "cell_type": "markdown",
   "metadata": {},
   "source": [
    "Most of the Hindi movies in the list are **ALL** Category."
   ]
  },
  {
   "cell_type": "code",
   "execution_count": 81,
   "metadata": {},
   "outputs": [
    {
     "data": {
      "image/png": "[encoded data removed]",
      "text/plain": [
       "<Figure size 640x480 with 1 Axes>"
      ]
     },
     "metadata": {},
     "output_type": "display_data"
    }
   ],
   "source": [
    "filtered_data = dataset[(dataset['Language'] == 'Hindi') & (dataset['IMDb Rating'] == 6.5)]\n",
    "result = filtered_data.groupby('Maturity Rating')['Maturity Rating'].count()\n",
    "result.plot(kind='bar')\n",
    "plt.show()\n"
   ]
  },
  {
   "attachments": {},
   "cell_type": "markdown",
   "metadata": {},
   "source": [
    "# In which year highes number of movies released? #"
   ]
  },
  {
   "cell_type": "code",
   "execution_count": 84,
   "metadata": {},
   "outputs": [
    {
     "data": {
      "text/plain": [
       "762"
      ]
     },
     "execution_count": 84,
     "metadata": {},
     "output_type": "execute_result"
    }
   ],
   "source": [
    "year_filter = dataset['Year of Release'].value_counts()\n",
    "result_to = year_filter.max()\n",
    "result_to"
   ]
  },
  {
   "cell_type": "code",
   "execution_count": 85,
   "metadata": {},
   "outputs": [
    {
     "data": {
      "text/plain": [
       "'2017'"
      ]
     },
     "execution_count": 85,
     "metadata": {},
     "output_type": "execute_result"
    }
   ],
   "source": [
    "year_filter = dataset['Year of Release'].value_counts()\n",
    "year_to = year_filter.idxmax()\n",
    "year_to"
   ]
  },
  {
   "attachments": {},
   "cell_type": "markdown",
   "metadata": {},
   "source": [
    "In **2017**, highest number of movies released. Movies count is 762"
   ]
  },
  {
   "cell_type": "code",
   "execution_count": 98,
   "metadata": {},
   "outputs": [
    {
     "data": {
      "text/plain": [
       "Language\n",
       "Bengali      350\n",
       "English       95\n",
       "Gujarati      25\n",
       "Hindi        103\n",
       "Kannada       12\n",
       "Malayalam     30\n",
       "Marathi       23\n",
       "Punjabi       15\n",
       "Tamil         46\n",
       "Telugu        63\n",
       "Name: Language, dtype: int64"
      ]
     },
     "execution_count": 98,
     "metadata": {},
     "output_type": "execute_result"
    }
   ],
   "source": [
    "filter_data = dataset[dataset['Year of Release']== '2017']\n",
    "result_language = filter_data.groupby('Language')['Language'].count()\n",
    "result_language"
   ]
  },
  {
   "cell_type": "code",
   "execution_count": 105,
   "metadata": {},
   "outputs": [
    {
     "data": {
      "text/plain": [
       "<AxesSubplot:xlabel='Language'>"
      ]
     },
     "execution_count": 105,
     "metadata": {},
     "output_type": "execute_result"
    },
    {
     "data": {
      "image/png": "[encoded data removed]",
      "text/plain": [
       "<Figure size 700x400 with 1 Axes>"
      ]
     },
     "metadata": {},
     "output_type": "display_data"
    }
   ],
   "source": [
    "result_language.plot(kind='bar', figsize=(7,4))"
   ]
  },
  {
   "cell_type": "code",
   "execution_count": 118,
   "metadata": {},
   "outputs": [
    {
     "data": {
      "text/plain": [
       "<AxesSubplot:ylabel='Maturity Rating'>"
      ]
     },
     "execution_count": 118,
     "metadata": {},
     "output_type": "execute_result"
    },
    {
     "data": {
      "image/png": "[encoded data removed]",
      "text/plain": [
       "<Figure size 640x480 with 1 Axes>"
      ]
     },
     "metadata": {},
     "output_type": "display_data"
    }
   ],
   "source": [
    "Maturity_level = dataset[(dataset['Language']=='Bengali') & (dataset['Year of Release']=='2017')]\n",
    "result_level = Maturity_level.groupby('Maturity Rating')['Maturity Rating'].count() \n",
    "result_level.plot(kind='barh', colormap= 'winter')"
   ]
  },
  {
   "cell_type": "code",
   "execution_count": 124,
   "metadata": {},
   "outputs": [
    {
     "data": {
      "text/plain": [
       "Movie Name\n",
       "Khawto                 1\n",
       "Majnu                  1\n",
       "Shashi Babur Sansar    1\n",
       "Name: Movie Name, dtype: int64"
      ]
     },
     "execution_count": 124,
     "metadata": {},
     "output_type": "execute_result"
    }
   ],
   "source": [
    "filter_data_to = dataset[(dataset['Language']=='Bengali') & (dataset['Year of Release']=='2017') & (dataset['Maturity Rating'] == '13+') & (dataset['IMDb Rating'] == 6.5)]  # Get the movie name based on following condition #\n",
    "result_data = filter_data_to.groupby('Movie Name')['Movie Name'].count()\n",
    "result_data"
   ]
  },
  {
   "cell_type": "code",
   "execution_count": 141,
   "metadata": {},
   "outputs": [
    {
     "data": {
      "text/plain": [
       "Index(['Khawto', 'Majnu', 'Shashi Babur Sansar'], dtype='object', name='Movie Name')"
      ]
     },
     "execution_count": 141,
     "metadata": {},
     "output_type": "execute_result"
    }
   ],
   "source": [
    "movie_names = result_data.index # Movies Name#\n",
    "movie_names"
   ]
  },
  {
   "cell_type": "code",
   "execution_count": 143,
   "metadata": {},
   "outputs": [
    {
     "data": {
      "text/plain": [
       "1331    A Bengali film about a family-oriented girl wh...\n",
       "3713    A Bengali film about the traditional head of t...\n",
       "4088    A couple comes across renowned writer Nirbed L...\n",
       "Name: Plot, dtype: object"
      ]
     },
     "execution_count": 143,
     "metadata": {},
     "output_type": "execute_result"
    }
   ],
   "source": [
    "movie_plots = dataset.loc[dataset['Movie Name'].isin(movie_names) , 'Plot'] # Get the description of the movies are get rating in 13+ in bengali # \n",
    "movie_plots"
   ]
  }
 ],
 "metadata": {
  "kernelspec": {
   "display_name": "base",
   "language": "python",
   "name": "python3"
  },
  "language_info": {
   "codemirror_mode": {
    "name": "ipython",
    "version": 3
   },
   "file_extension": ".py",
   "mimetype": "text/x-python",
   "name": "python",
   "nbconvert_exporter": "python",
   "pygments_lexer": "ipython3",
   "version": "3.9.13"
  },
  "orig_nbformat": 4
 },
 "nbformat": 4,
 "nbformat_minor": 2
}
